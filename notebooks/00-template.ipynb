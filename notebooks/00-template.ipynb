{
 "cells": [
  {
   "cell_type": "markdown",
   "metadata": {},
   "source": [
    "<center>\n",
    "Data Science Path\n",
    "\n",
    "João Guilherme da Costa Augustinho\n",
    "\n",
    "<h1><strong>Pima Indians Diabetes Database</strong></h1>\n",
    "\n",
    "Predict the onset of diabetes based on diagnostic measures\n",
    "\n",
    "<hr style=\"width:100%\">\n",
    "\n",
    "Belo Horizonte - MG\n",
    "\n",
    "Brazil\n",
    "\n",
    "2021\n",
    "\n",
    "</center>\n",
    "<br>"
   ]
  },
  {
   "cell_type": "markdown",
   "metadata": {},
   "source": [
    "**01 - Imports**"
   ]
  },
  {
   "cell_type": "code",
   "execution_count": null,
   "metadata": {},
   "outputs": [],
   "source": []
  },
  {
   "cell_type": "markdown",
   "metadata": {},
   "source": [
    "**02 - Type Hints**"
   ]
  },
  {
   "cell_type": "code",
   "execution_count": null,
   "metadata": {},
   "outputs": [],
   "source": []
  },
  {
   "cell_type": "markdown",
   "metadata": {},
   "source": [
    "**03 - Some Functions**"
   ]
  },
  {
   "cell_type": "code",
   "execution_count": null,
   "metadata": {},
   "outputs": [],
   "source": []
  },
  {
   "cell_type": "markdown",
   "metadata": {},
   "source": [
    "**The End**"
   ]
  },
  {
   "cell_type": "markdown",
   "metadata": {},
   "source": [
    "Thanks for everything and see you next time. \n",
    "\n",
    "🤜🏻🤛🏻"
   ]
  }
 ],
 "metadata": {
  "language_info": {
   "name": "python"
  },
  "orig_nbformat": 4
 },
 "nbformat": 4,
 "nbformat_minor": 2
}
